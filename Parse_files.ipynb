{
 "cells": [
  {
   "cell_type": "code",
   "execution_count": null,
   "metadata": {
    "collapsed": true
   },
   "outputs": [],
   "source": [
    "function printmatrix(M)\n",
    "    M = M'\n",
    "    print(\"[\")\n",
    "    for i=1:length(M)\n",
    "        Mi = M[i];\n",
    "        print(\" $Mi\")\n",
    "        if i!=length(M)\n",
    "            print(\", \")\n",
    "        end\n",
    "    end\n",
    "    print(\"]\")\n",
    "    return\n",
    "end"
   ]
  }
 ],
 "metadata": {
  "kernelspec": {
   "display_name": "Julia 0.6.1",
   "language": "julia",
   "name": "julia-0.6"
  },
  "language_info": {
   "file_extension": ".jl",
   "mimetype": "application/julia",
   "name": "julia",
   "version": "0.6.1"
  }
 },
 "nbformat": 4,
 "nbformat_minor": 0
}
